{
 "cells": [
  {
   "cell_type": "markdown",
   "metadata": {},
   "source": [
    "# QVIM-AES Submission Template\n",
    "\n",
    "This is the submission template for the Query by Vocal Imitation challenge at the 2025 AES International Conference on Artificial Intelligence and Machine Learning for Audio.\n",
    "\n",
    "The content of this notebook is inspired by the template provided by the task organizers of the [Sound Scene Synthesis Taks of the DCASE Challenge 2024](https://dcase.community/challenge2024/task-sound-scene-synthesis).\n",
    "\n",
    "<div class=\"alert alert-block alert-warning\"> \n",
    "<b>Confidentiality Statement</b><br> As the organizers of this contest, we assure all participants that their submitted models and code will be treated with strict confidentiality. Submissions will only be accessed by the designated review team for evaluation purposes and will not be shared, distributed, or used beyond the scope of this challenge. Participants retain full ownership of their work. We will not claim any rights over the submitted materials, nor will we use them for any purpose outside of the challenge evaluation process. We appreciate your participation in this challenge.\n",
    "</div>\n",
    "\n",
    "#### How to create your submission\n",
    "- Get familiar with the existing code blocks and the example provided below.\n",
    "- Set the root path of your environment and your dataset below (\"TODO: DEFINE YOUR PATHS HERE.\").\n",
    "- Set up your project (\"TODO: SETUP YOUR PROJECT HERE.\").\n",
    "- Implement the retrieval interface below (\"TODO: ADD YOUR IMPLEMENTATION HERE.\").\n",
    "    - Use the provided helper functions (helpers) to download your source code, model checkpoints, etc.\n",
    "- Instantiate your retrieval model (\"TODO: INSTANTIATE YOUR MODEL HERE.\").\n",
    "- Before **submitting your notebook**, run this notebook in a clean conda environment (with python >= 3.10) on Ubuntu 24.04 and make sure the evaluation results are in line with your previous results.\n",
    "- Submit your notebooks and the technical report as described on our [website](https://qvim-aes.github.io/).\n",
    "\n",
    "##### Some Rules\n",
    "- DO NOT modify the other code cells.\n",
    "- DO NOT add new cells.\n",
    "- Store your project WITHIN 'ROOT_PATH' and your data within 'DATA_PATH'.\n",
    "- DO NOT use 'ROOT_PATH/output' folder; this is where we will store things.\n",
    "- DO NOT change the working directory (e.g., `os.chdir('/path/to/a/dir/that/does/not/exist/on/my/machine')`).\n",
    "- DO NOT use system commands (`!cd ~` or `os.system('cd ~')`, etc.) other than the ones used to set up your environment (i.e., install required packages with pip, conda, ...).\n",
    "\n",
    "<div class=\"alert alert-block alert-danger\"> \n",
    "Participant who submit malicious code will be disqualified.\n",
    "</div>\n",
    "    "
   ]
  },
  {
   "cell_type": "code",
   "metadata": {
    "ExecuteTime": {
     "end_time": "2025-04-05T01:13:16.144782Z",
     "start_time": "2025-04-05T01:13:15.150627Z"
    }
   },
   "source": [
    "\"\"\"\n",
    "DO NOT MODIFY THIS BLOCK.\n",
    "\"\"\"\n",
    "# Install basic packages for template notebook.\n",
    "! pip install librosa numpy pandas tqdm GitPython gdown==5.1.0"
   ],
   "outputs": [
    {
     "name": "stdout",
     "output_type": "stream",
     "text": [
      "Requirement already satisfied: librosa in /home/paul/miniconda3/envs/qvim-submission/lib/python3.10/site-packages (0.11.0)\r\n",
      "Requirement already satisfied: numpy in /home/paul/miniconda3/envs/qvim-submission/lib/python3.10/site-packages (2.1.3)\r\n",
      "Requirement already satisfied: pandas in /home/paul/miniconda3/envs/qvim-submission/lib/python3.10/site-packages (2.2.3)\r\n",
      "Requirement already satisfied: tqdm in /home/paul/miniconda3/envs/qvim-submission/lib/python3.10/site-packages (4.67.1)\r\n",
      "Requirement already satisfied: GitPython in /home/paul/miniconda3/envs/qvim-submission/lib/python3.10/site-packages (3.1.44)\r\n",
      "Requirement already satisfied: gdown==5.1.0 in /home/paul/miniconda3/envs/qvim-submission/lib/python3.10/site-packages (5.1.0)\r\n",
      "Requirement already satisfied: beautifulsoup4 in /home/paul/miniconda3/envs/qvim-submission/lib/python3.10/site-packages (from gdown==5.1.0) (4.12.3)\r\n",
      "Requirement already satisfied: filelock in /home/paul/miniconda3/envs/qvim-submission/lib/python3.10/site-packages (from gdown==5.1.0) (3.18.0)\r\n",
      "Requirement already satisfied: requests[socks] in /home/paul/miniconda3/envs/qvim-submission/lib/python3.10/site-packages (from gdown==5.1.0) (2.32.3)\r\n",
      "Requirement already satisfied: audioread>=2.1.9 in /home/paul/miniconda3/envs/qvim-submission/lib/python3.10/site-packages (from librosa) (3.0.1)\r\n",
      "Requirement already satisfied: numba>=0.51.0 in /home/paul/miniconda3/envs/qvim-submission/lib/python3.10/site-packages (from librosa) (0.61.0)\r\n",
      "Requirement already satisfied: scipy>=1.6.0 in /home/paul/miniconda3/envs/qvim-submission/lib/python3.10/site-packages (from librosa) (1.15.2)\r\n",
      "Requirement already satisfied: scikit-learn>=1.1.0 in /home/paul/miniconda3/envs/qvim-submission/lib/python3.10/site-packages (from librosa) (1.6.1)\r\n",
      "Requirement already satisfied: joblib>=1.0 in /home/paul/miniconda3/envs/qvim-submission/lib/python3.10/site-packages (from librosa) (1.4.2)\r\n",
      "Requirement already satisfied: decorator>=4.3.0 in /home/paul/miniconda3/envs/qvim-submission/lib/python3.10/site-packages (from librosa) (5.1.1)\r\n",
      "Requirement already satisfied: soundfile>=0.12.1 in /home/paul/miniconda3/envs/qvim-submission/lib/python3.10/site-packages (from librosa) (0.13.1)\r\n",
      "Requirement already satisfied: pooch>=1.1 in /home/paul/miniconda3/envs/qvim-submission/lib/python3.10/site-packages (from librosa) (1.8.2)\r\n",
      "Requirement already satisfied: soxr>=0.3.2 in /home/paul/miniconda3/envs/qvim-submission/lib/python3.10/site-packages (from librosa) (0.5.0.post1)\r\n",
      "Requirement already satisfied: typing_extensions>=4.1.1 in /home/paul/miniconda3/envs/qvim-submission/lib/python3.10/site-packages (from librosa) (4.12.2)\r\n",
      "Requirement already satisfied: lazy_loader>=0.1 in /home/paul/miniconda3/envs/qvim-submission/lib/python3.10/site-packages (from librosa) (0.4)\r\n",
      "Requirement already satisfied: msgpack>=1.0 in /home/paul/miniconda3/envs/qvim-submission/lib/python3.10/site-packages (from librosa) (1.1.0)\r\n",
      "Requirement already satisfied: python-dateutil>=2.8.2 in /home/paul/miniconda3/envs/qvim-submission/lib/python3.10/site-packages (from pandas) (2.9.0.post0)\r\n",
      "Requirement already satisfied: pytz>=2020.1 in /home/paul/miniconda3/envs/qvim-submission/lib/python3.10/site-packages (from pandas) (2025.2)\r\n",
      "Requirement already satisfied: tzdata>=2022.7 in /home/paul/miniconda3/envs/qvim-submission/lib/python3.10/site-packages (from pandas) (2025.2)\r\n",
      "Requirement already satisfied: gitdb<5,>=4.0.1 in /home/paul/miniconda3/envs/qvim-submission/lib/python3.10/site-packages (from GitPython) (4.0.12)\r\n",
      "Requirement already satisfied: smmap<6,>=3.0.1 in /home/paul/miniconda3/envs/qvim-submission/lib/python3.10/site-packages (from gitdb<5,>=4.0.1->GitPython) (5.0.2)\r\n",
      "Requirement already satisfied: packaging in /home/paul/miniconda3/envs/qvim-submission/lib/python3.10/site-packages (from lazy_loader>=0.1->librosa) (24.2)\r\n",
      "Requirement already satisfied: llvmlite<0.45,>=0.44.0dev0 in /home/paul/miniconda3/envs/qvim-submission/lib/python3.10/site-packages (from numba>=0.51.0->librosa) (0.44.0)\r\n",
      "Requirement already satisfied: platformdirs>=2.5.0 in /home/paul/miniconda3/envs/qvim-submission/lib/python3.10/site-packages (from pooch>=1.1->librosa) (3.10.0)\r\n",
      "Requirement already satisfied: six>=1.5 in /home/paul/miniconda3/envs/qvim-submission/lib/python3.10/site-packages (from python-dateutil>=2.8.2->pandas) (1.16.0)\r\n",
      "Requirement already satisfied: threadpoolctl>=3.1.0 in /home/paul/miniconda3/envs/qvim-submission/lib/python3.10/site-packages (from scikit-learn>=1.1.0->librosa) (3.6.0)\r\n",
      "Requirement already satisfied: cffi>=1.0 in /home/paul/miniconda3/envs/qvim-submission/lib/python3.10/site-packages (from soundfile>=0.12.1->librosa) (1.17.1)\r\n",
      "Requirement already satisfied: soupsieve>1.2 in /home/paul/miniconda3/envs/qvim-submission/lib/python3.10/site-packages (from beautifulsoup4->gdown==5.1.0) (2.5)\r\n",
      "Requirement already satisfied: charset-normalizer<4,>=2 in /home/paul/miniconda3/envs/qvim-submission/lib/python3.10/site-packages (from requests[socks]->gdown==5.1.0) (3.3.2)\r\n",
      "Requirement already satisfied: idna<4,>=2.5 in /home/paul/miniconda3/envs/qvim-submission/lib/python3.10/site-packages (from requests[socks]->gdown==5.1.0) (3.7)\r\n",
      "Requirement already satisfied: urllib3<3,>=1.21.1 in /home/paul/miniconda3/envs/qvim-submission/lib/python3.10/site-packages (from requests[socks]->gdown==5.1.0) (2.3.0)\r\n",
      "Requirement already satisfied: certifi>=2017.4.17 in /home/paul/miniconda3/envs/qvim-submission/lib/python3.10/site-packages (from requests[socks]->gdown==5.1.0) (2025.1.31)\r\n",
      "Requirement already satisfied: PySocks!=1.5.7,>=1.5.6 in /home/paul/miniconda3/envs/qvim-submission/lib/python3.10/site-packages (from requests[socks]->gdown==5.1.0) (1.7.1)\r\n",
      "Requirement already satisfied: pycparser in /home/paul/miniconda3/envs/qvim-submission/lib/python3.10/site-packages (from cffi>=1.0->soundfile>=0.12.1->librosa) (2.21)\r\n"
     ]
    }
   ],
   "execution_count": 1
  },
  {
   "cell_type": "code",
   "metadata": {
    "ExecuteTime": {
     "end_time": "2025-04-05T01:13:16.347969Z",
     "start_time": "2025-04-05T01:13:16.149224Z"
    }
   },
   "source": [
    "\"\"\"\n",
    "DO NOT MODIFY THIS BLOCK.\n",
    "\"\"\"\n",
    "# some imports\n",
    "import sys\n",
    "import os\n",
    "\n",
    "from abc import ABC, abstractmethod\n",
    "from tqdm import tqdm\n",
    "import numpy as np\n",
    "import pandas as pd\n"
   ],
   "outputs": [],
   "execution_count": 2
  },
  {
   "cell_type": "markdown",
   "metadata": {
    "id": "XNASsBThlM2s"
   },
   "source": [
    "## Description of the Retrieval Interface \n",
    "`QVIMModel` is the interface specification for all query by vocal imitation systems. Each submitted system is expected to subclass this interface and implement the `compute_similarities` method, which computes the similarities between all pairwise combinations of queries (vocal imitations) and items (reference sounds).\n",
    "\n",
    "`compute_similarities` takes two dictionaries as input:\n",
    "- queries is a dictionary mapping ids of items to be retrieved to the corresponding file paths.\n",
    "- items is a dictionary mapping query ids to the corresponding file paths\n",
    "\n",
    "Participants are expected to load the sounds themselves, e.g., with `librosa.load`."
   ]
  },
  {
   "cell_type": "code",
   "metadata": {
    "id": "008R-IAWX0C5",
    "ExecuteTime": {
     "end_time": "2025-04-05T01:13:16.420310Z",
     "start_time": "2025-04-05T01:13:16.417472Z"
    }
   },
   "source": [
    "\"\"\"\n",
    "DO NOT MODIFY THIS BLOCK.\n",
    "\"\"\"\n",
    "\n",
    "class QVIMModel(ABC):\n",
    "\n",
    "    @abstractmethod\n",
    "    def compute_similarities(\n",
    "            self, items: dict[str, str], queries: dict[str, str]\n",
    "    ) -> dict[str, dict[str, float]]:\n",
    "        \"\"\"Compute similarity scores between items to be retrieved and a set of queries.\n",
    "\n",
    "        Each <query, item> pairing should be assigned a single floating point score, where higher\n",
    "        scores indicate higher similarity.\n",
    "\n",
    "        Args:\n",
    "            items (dict[str, str]): A dictionary mapping ids of items to be retrieved to the corresponding file path\n",
    "            queries (dict[str, str]): A dictionary mapping query ids to the corresponding file path\n",
    "\n",
    "        Returns:\n",
    "            scores (dict[str, dict[str, float]]): A dictionary mapping query ids to a dictionary of item\n",
    "                ids and their corresponding similarity scores. E.g:\n",
    "                {\n",
    "                    \"query_1\": {\n",
    "                        \"item_1\": 0.8,\n",
    "                        \"item_2\": 0.6,\n",
    "                        ...\n",
    "                    },\n",
    "                    \"query_2\": {\n",
    "                        \"item_1\": 0.4,\n",
    "                        \"item_2\": 0.9,\n",
    "                        ...\n",
    "                    },\n",
    "                    ...\n",
    "                }\n",
    "        \"\"\"\n",
    "        pass"
   ],
   "outputs": [],
   "execution_count": 3
  },
  {
   "cell_type": "markdown",
   "metadata": {
    "id": "jVKQD14BnoSd"
   },
   "source": [
    "## Some Helper Functions"
   ]
  },
  {
   "cell_type": "markdown",
   "metadata": {},
   "source": [
    "`helpers.py` contains some helpful functions for downloading code and model checkpoints from Google Drive, Git and public links.\n",
    "\n",
    "The functions were taken (with slight modifications) from the submission template provided by the task organizers of [Task 7 of the DCASE Challenge 2024: Sound Scene Synthesis](https://dcase.community/challenge2024/task-sound-scene-synthesis)."
   ]
  },
  {
   "cell_type": "code",
   "metadata": {
    "ExecuteTime": {
     "end_time": "2025-04-05T01:13:16.570148Z",
     "start_time": "2025-04-05T01:13:16.462593Z"
    }
   },
   "source": [
    "import helpers\n",
    "from helpers import google_drive_download, wget_download, git_clone_checkout, unpack_file"
   ],
   "outputs": [],
   "execution_count": 4
  },
  {
   "cell_type": "markdown",
   "metadata": {},
   "source": [
    "## Step 1: Setup your paths\n",
    "\n",
    "- Define `ROOT_PATH`; this is where your project lives; for testing, we'll replace it with our custom ROOT_PATH. We recommend using the current working directory ('.').\n",
    "- Define `DATA_PATH`; this is where your public development data lives; for testing, we'll replace it with our custom DATA_PATH. We recommend using 'data/qvim-dev'.\n",
    "    "
   ]
  },
  {
   "cell_type": "code",
   "metadata": {
    "ExecuteTime": {
     "end_time": "2025-04-05T01:13:16.577631Z",
     "start_time": "2025-04-05T01:13:16.575771Z"
    }
   },
   "source": [
    "\"\"\"\n",
    "TODO: DEFINE YOUR PATHS HERE.\n",
    "\"\"\"\n",
    "\n",
    "# replace this with your custom ROOT_PATH; this is where your code/ checkpoints will be downloaded to\n",
    "ROOT_PATH = \".\"\n",
    "\n",
    "# path to the evaluation data; can be in ROOT_PATH\n",
    "DATA_PATH = os.path.join(\"data\", \"qvim-dev\")"
   ],
   "outputs": [],
   "execution_count": 5
  },
  {
   "metadata": {
    "ExecuteTime": {
     "end_time": "2025-04-05T01:13:16.620331Z",
     "start_time": "2025-04-05T01:13:16.617919Z"
    }
   },
   "cell_type": "code",
   "source": [
    "helpers.ROOT_PATH = ROOT_PATH\n",
    "os.makedirs(ROOT_PATH, exist_ok=True)\n",
    "os.makedirs(DATA_PATH, exist_ok=True)\n",
    "sys.path.append(os.path.join(ROOT_PATH))"
   ],
   "outputs": [],
   "execution_count": 6
  },
  {
   "metadata": {},
   "cell_type": "markdown",
   "source": [
    "# Step 2: Setup your environment, download checkpoints, etc.\n",
    "\n",
    "Setup your project and install the required packages here.\n",
    "The easiest way is to:\n",
    "1) convert your implementation into a package,\n",
    "2) clone the repository and checkout the specific branch and commit,\n",
    "3) install your package with pip install -e name_of_your_fancy_package\n",
    "\n",
    "\n",
    "Hints:\n",
    "- Make sure your link to the repository and other URLs are publicly available.\n",
    "- Use **shared public URLs** (e.g. a shared Google Drive, Dropbox, Zenodo link) to download checkpoints into `ROOT_PATH`.\n",
    "- Use the provided helper functions (`google_drive_download`, `wget_download`, `git_clone_checkout`, and `unpack_file`)."
   ]
  },
  {
   "cell_type": "code",
   "metadata": {
    "id": "2FA2V1lYC3fy",
    "ExecuteTime": {
     "end_time": "2025-04-05T01:13:20.115872Z",
     "start_time": "2025-04-05T01:13:16.667244Z"
    }
   },
   "source": [
    "\"\"\"\n",
    "TODO: SETUP YOUR PROJECT HERE.\n",
    "\"\"\"\n",
    "\n",
    "# clone repository\n",
    "git_clone_checkout(output_dir='qvim-baseline', url='https://github.com/qvim-aes/qvim-baseline.git', branch='main', commit_sha='cd2c1a314216996dcac46b0076008ecb81953bab')\n",
    "\n",
    "# install as a package\n",
    "!pip install -e qvim-baseline"
   ],
   "outputs": [
    {
     "name": "stdout",
     "output_type": "stream",
     "text": [
      "Directory already exists. Skipping clone.\n",
      "Obtaining file:///home/paul/PycharmProjects/qvim-submission/qvim-baseline\r\n",
      "  Installing build dependencies ... \u001B[?25ldone\r\n",
      "\u001B[?25h  Checking if build backend supports build_editable ... \u001B[?25ldone\r\n",
      "\u001B[?25h  Getting requirements to build editable ... \u001B[?25ldone\r\n",
      "\u001B[?25h  Preparing editable metadata (pyproject.toml) ... \u001B[?25ldone\r\n",
      "\u001B[?25hRequirement already satisfied: torch==2.6.0 in /home/paul/miniconda3/envs/qvim-submission/lib/python3.10/site-packages (from qvim-mn-baseline==0.1.0) (2.6.0)\r\n",
      "Requirement already satisfied: torchvision==0.21.0 in /home/paul/miniconda3/envs/qvim-submission/lib/python3.10/site-packages (from qvim-mn-baseline==0.1.0) (0.21.0)\r\n",
      "Requirement already satisfied: torchaudio==2.6.0 in /home/paul/miniconda3/envs/qvim-submission/lib/python3.10/site-packages (from qvim-mn-baseline==0.1.0) (2.6.0)\r\n",
      "Requirement already satisfied: scikit-learn==1.6.1 in /home/paul/miniconda3/envs/qvim-submission/lib/python3.10/site-packages (from qvim-mn-baseline==0.1.0) (1.6.1)\r\n",
      "Requirement already satisfied: matplotlib==3.10.1 in /home/paul/miniconda3/envs/qvim-submission/lib/python3.10/site-packages (from qvim-mn-baseline==0.1.0) (3.10.1)\r\n",
      "Requirement already satisfied: lightning==2.5.1 in /home/paul/miniconda3/envs/qvim-submission/lib/python3.10/site-packages (from qvim-mn-baseline==0.1.0) (2.5.1)\r\n",
      "Requirement already satisfied: pandas==2.2.3 in /home/paul/miniconda3/envs/qvim-submission/lib/python3.10/site-packages (from qvim-mn-baseline==0.1.0) (2.2.3)\r\n",
      "Requirement already satisfied: librosa==0.11.0 in /home/paul/miniconda3/envs/qvim-submission/lib/python3.10/site-packages (from qvim-mn-baseline==0.1.0) (0.11.0)\r\n",
      "Requirement already satisfied: notebook in /home/paul/miniconda3/envs/qvim-submission/lib/python3.10/site-packages (from qvim-mn-baseline==0.1.0) (7.3.2)\r\n",
      "Requirement already satisfied: wandb in /home/paul/miniconda3/envs/qvim-submission/lib/python3.10/site-packages (from qvim-mn-baseline==0.1.0) (0.19.9)\r\n",
      "Requirement already satisfied: audioread>=2.1.9 in /home/paul/miniconda3/envs/qvim-submission/lib/python3.10/site-packages (from librosa==0.11.0->qvim-mn-baseline==0.1.0) (3.0.1)\r\n",
      "Requirement already satisfied: numba>=0.51.0 in /home/paul/miniconda3/envs/qvim-submission/lib/python3.10/site-packages (from librosa==0.11.0->qvim-mn-baseline==0.1.0) (0.61.0)\r\n",
      "Requirement already satisfied: numpy>=1.22.3 in /home/paul/miniconda3/envs/qvim-submission/lib/python3.10/site-packages (from librosa==0.11.0->qvim-mn-baseline==0.1.0) (2.1.3)\r\n",
      "Requirement already satisfied: scipy>=1.6.0 in /home/paul/miniconda3/envs/qvim-submission/lib/python3.10/site-packages (from librosa==0.11.0->qvim-mn-baseline==0.1.0) (1.15.2)\r\n",
      "Requirement already satisfied: joblib>=1.0 in /home/paul/miniconda3/envs/qvim-submission/lib/python3.10/site-packages (from librosa==0.11.0->qvim-mn-baseline==0.1.0) (1.4.2)\r\n",
      "Requirement already satisfied: decorator>=4.3.0 in /home/paul/miniconda3/envs/qvim-submission/lib/python3.10/site-packages (from librosa==0.11.0->qvim-mn-baseline==0.1.0) (5.1.1)\r\n",
      "Requirement already satisfied: soundfile>=0.12.1 in /home/paul/miniconda3/envs/qvim-submission/lib/python3.10/site-packages (from librosa==0.11.0->qvim-mn-baseline==0.1.0) (0.13.1)\r\n",
      "Requirement already satisfied: pooch>=1.1 in /home/paul/miniconda3/envs/qvim-submission/lib/python3.10/site-packages (from librosa==0.11.0->qvim-mn-baseline==0.1.0) (1.8.2)\r\n",
      "Requirement already satisfied: soxr>=0.3.2 in /home/paul/miniconda3/envs/qvim-submission/lib/python3.10/site-packages (from librosa==0.11.0->qvim-mn-baseline==0.1.0) (0.5.0.post1)\r\n",
      "Requirement already satisfied: typing_extensions>=4.1.1 in /home/paul/miniconda3/envs/qvim-submission/lib/python3.10/site-packages (from librosa==0.11.0->qvim-mn-baseline==0.1.0) (4.12.2)\r\n",
      "Requirement already satisfied: lazy_loader>=0.1 in /home/paul/miniconda3/envs/qvim-submission/lib/python3.10/site-packages (from librosa==0.11.0->qvim-mn-baseline==0.1.0) (0.4)\r\n",
      "Requirement already satisfied: msgpack>=1.0 in /home/paul/miniconda3/envs/qvim-submission/lib/python3.10/site-packages (from librosa==0.11.0->qvim-mn-baseline==0.1.0) (1.1.0)\r\n",
      "Requirement already satisfied: PyYAML<8.0,>=5.4 in /home/paul/miniconda3/envs/qvim-submission/lib/python3.10/site-packages (from lightning==2.5.1->qvim-mn-baseline==0.1.0) (6.0.2)\r\n",
      "Requirement already satisfied: fsspec<2026.0,>=2022.5.0 in /home/paul/miniconda3/envs/qvim-submission/lib/python3.10/site-packages (from fsspec[http]<2026.0,>=2022.5.0->lightning==2.5.1->qvim-mn-baseline==0.1.0) (2025.3.2)\r\n",
      "Requirement already satisfied: lightning-utilities<2.0,>=0.10.0 in /home/paul/miniconda3/envs/qvim-submission/lib/python3.10/site-packages (from lightning==2.5.1->qvim-mn-baseline==0.1.0) (0.14.3)\r\n",
      "Requirement already satisfied: packaging<25.0,>=20.0 in /home/paul/miniconda3/envs/qvim-submission/lib/python3.10/site-packages (from lightning==2.5.1->qvim-mn-baseline==0.1.0) (24.2)\r\n",
      "Requirement already satisfied: torchmetrics<3.0,>=0.7.0 in /home/paul/miniconda3/envs/qvim-submission/lib/python3.10/site-packages (from lightning==2.5.1->qvim-mn-baseline==0.1.0) (1.7.0)\r\n",
      "Requirement already satisfied: tqdm<6.0,>=4.57.0 in /home/paul/miniconda3/envs/qvim-submission/lib/python3.10/site-packages (from lightning==2.5.1->qvim-mn-baseline==0.1.0) (4.67.1)\r\n",
      "Requirement already satisfied: pytorch-lightning in /home/paul/miniconda3/envs/qvim-submission/lib/python3.10/site-packages (from lightning==2.5.1->qvim-mn-baseline==0.1.0) (2.5.1)\r\n",
      "Requirement already satisfied: contourpy>=1.0.1 in /home/paul/miniconda3/envs/qvim-submission/lib/python3.10/site-packages (from matplotlib==3.10.1->qvim-mn-baseline==0.1.0) (1.3.1)\r\n",
      "Requirement already satisfied: cycler>=0.10 in /home/paul/miniconda3/envs/qvim-submission/lib/python3.10/site-packages (from matplotlib==3.10.1->qvim-mn-baseline==0.1.0) (0.12.1)\r\n",
      "Requirement already satisfied: fonttools>=4.22.0 in /home/paul/miniconda3/envs/qvim-submission/lib/python3.10/site-packages (from matplotlib==3.10.1->qvim-mn-baseline==0.1.0) (4.57.0)\r\n",
      "Requirement already satisfied: kiwisolver>=1.3.1 in /home/paul/miniconda3/envs/qvim-submission/lib/python3.10/site-packages (from matplotlib==3.10.1->qvim-mn-baseline==0.1.0) (1.4.8)\r\n",
      "Requirement already satisfied: pillow>=8 in /home/paul/miniconda3/envs/qvim-submission/lib/python3.10/site-packages (from matplotlib==3.10.1->qvim-mn-baseline==0.1.0) (11.1.0)\r\n",
      "Requirement already satisfied: pyparsing>=2.3.1 in /home/paul/miniconda3/envs/qvim-submission/lib/python3.10/site-packages (from matplotlib==3.10.1->qvim-mn-baseline==0.1.0) (3.2.3)\r\n",
      "Requirement already satisfied: python-dateutil>=2.7 in /home/paul/miniconda3/envs/qvim-submission/lib/python3.10/site-packages (from matplotlib==3.10.1->qvim-mn-baseline==0.1.0) (2.9.0.post0)\r\n",
      "Requirement already satisfied: pytz>=2020.1 in /home/paul/miniconda3/envs/qvim-submission/lib/python3.10/site-packages (from pandas==2.2.3->qvim-mn-baseline==0.1.0) (2025.2)\r\n",
      "Requirement already satisfied: tzdata>=2022.7 in /home/paul/miniconda3/envs/qvim-submission/lib/python3.10/site-packages (from pandas==2.2.3->qvim-mn-baseline==0.1.0) (2025.2)\r\n",
      "Requirement already satisfied: threadpoolctl>=3.1.0 in /home/paul/miniconda3/envs/qvim-submission/lib/python3.10/site-packages (from scikit-learn==1.6.1->qvim-mn-baseline==0.1.0) (3.6.0)\r\n",
      "Requirement already satisfied: filelock in /home/paul/miniconda3/envs/qvim-submission/lib/python3.10/site-packages (from torch==2.6.0->qvim-mn-baseline==0.1.0) (3.18.0)\r\n",
      "Requirement already satisfied: networkx in /home/paul/miniconda3/envs/qvim-submission/lib/python3.10/site-packages (from torch==2.6.0->qvim-mn-baseline==0.1.0) (3.4.2)\r\n",
      "Requirement already satisfied: jinja2 in /home/paul/miniconda3/envs/qvim-submission/lib/python3.10/site-packages (from torch==2.6.0->qvim-mn-baseline==0.1.0) (3.1.6)\r\n",
      "Requirement already satisfied: nvidia-cuda-nvrtc-cu12==12.4.127 in /home/paul/miniconda3/envs/qvim-submission/lib/python3.10/site-packages (from torch==2.6.0->qvim-mn-baseline==0.1.0) (12.4.127)\r\n",
      "Requirement already satisfied: nvidia-cuda-runtime-cu12==12.4.127 in /home/paul/miniconda3/envs/qvim-submission/lib/python3.10/site-packages (from torch==2.6.0->qvim-mn-baseline==0.1.0) (12.4.127)\r\n",
      "Requirement already satisfied: nvidia-cuda-cupti-cu12==12.4.127 in /home/paul/miniconda3/envs/qvim-submission/lib/python3.10/site-packages (from torch==2.6.0->qvim-mn-baseline==0.1.0) (12.4.127)\r\n",
      "Requirement already satisfied: nvidia-cudnn-cu12==9.1.0.70 in /home/paul/miniconda3/envs/qvim-submission/lib/python3.10/site-packages (from torch==2.6.0->qvim-mn-baseline==0.1.0) (9.1.0.70)\r\n",
      "Requirement already satisfied: nvidia-cublas-cu12==12.4.5.8 in /home/paul/miniconda3/envs/qvim-submission/lib/python3.10/site-packages (from torch==2.6.0->qvim-mn-baseline==0.1.0) (12.4.5.8)\r\n",
      "Requirement already satisfied: nvidia-cufft-cu12==11.2.1.3 in /home/paul/miniconda3/envs/qvim-submission/lib/python3.10/site-packages (from torch==2.6.0->qvim-mn-baseline==0.1.0) (11.2.1.3)\r\n",
      "Requirement already satisfied: nvidia-curand-cu12==10.3.5.147 in /home/paul/miniconda3/envs/qvim-submission/lib/python3.10/site-packages (from torch==2.6.0->qvim-mn-baseline==0.1.0) (10.3.5.147)\r\n",
      "Requirement already satisfied: nvidia-cusolver-cu12==11.6.1.9 in /home/paul/miniconda3/envs/qvim-submission/lib/python3.10/site-packages (from torch==2.6.0->qvim-mn-baseline==0.1.0) (11.6.1.9)\r\n",
      "Requirement already satisfied: nvidia-cusparse-cu12==12.3.1.170 in /home/paul/miniconda3/envs/qvim-submission/lib/python3.10/site-packages (from torch==2.6.0->qvim-mn-baseline==0.1.0) (12.3.1.170)\r\n",
      "Requirement already satisfied: nvidia-cusparselt-cu12==0.6.2 in /home/paul/miniconda3/envs/qvim-submission/lib/python3.10/site-packages (from torch==2.6.0->qvim-mn-baseline==0.1.0) (0.6.2)\r\n",
      "Requirement already satisfied: nvidia-nccl-cu12==2.21.5 in /home/paul/miniconda3/envs/qvim-submission/lib/python3.10/site-packages (from torch==2.6.0->qvim-mn-baseline==0.1.0) (2.21.5)\r\n",
      "Requirement already satisfied: nvidia-nvtx-cu12==12.4.127 in /home/paul/miniconda3/envs/qvim-submission/lib/python3.10/site-packages (from torch==2.6.0->qvim-mn-baseline==0.1.0) (12.4.127)\r\n",
      "Requirement already satisfied: nvidia-nvjitlink-cu12==12.4.127 in /home/paul/miniconda3/envs/qvim-submission/lib/python3.10/site-packages (from torch==2.6.0->qvim-mn-baseline==0.1.0) (12.4.127)\r\n",
      "Requirement already satisfied: triton==3.2.0 in /home/paul/miniconda3/envs/qvim-submission/lib/python3.10/site-packages (from torch==2.6.0->qvim-mn-baseline==0.1.0) (3.2.0)\r\n",
      "Requirement already satisfied: sympy==1.13.1 in /home/paul/miniconda3/envs/qvim-submission/lib/python3.10/site-packages (from torch==2.6.0->qvim-mn-baseline==0.1.0) (1.13.1)\r\n",
      "Requirement already satisfied: mpmath<1.4,>=1.1.0 in /home/paul/miniconda3/envs/qvim-submission/lib/python3.10/site-packages (from sympy==1.13.1->torch==2.6.0->qvim-mn-baseline==0.1.0) (1.3.0)\r\n",
      "Requirement already satisfied: jupyter-server<3,>=2.4.0 in /home/paul/miniconda3/envs/qvim-submission/lib/python3.10/site-packages (from notebook->qvim-mn-baseline==0.1.0) (2.15.0)\r\n",
      "Requirement already satisfied: jupyterlab-server<3,>=2.27.1 in /home/paul/miniconda3/envs/qvim-submission/lib/python3.10/site-packages (from notebook->qvim-mn-baseline==0.1.0) (2.27.3)\r\n",
      "Requirement already satisfied: jupyterlab<4.4,>=4.3.4 in /home/paul/miniconda3/envs/qvim-submission/lib/python3.10/site-packages (from notebook->qvim-mn-baseline==0.1.0) (4.3.4)\r\n",
      "Requirement already satisfied: notebook-shim<0.3,>=0.2 in /home/paul/miniconda3/envs/qvim-submission/lib/python3.10/site-packages (from notebook->qvim-mn-baseline==0.1.0) (0.2.4)\r\n",
      "Requirement already satisfied: tornado>=6.2.0 in /home/paul/miniconda3/envs/qvim-submission/lib/python3.10/site-packages (from notebook->qvim-mn-baseline==0.1.0) (6.4.2)\r\n",
      "Requirement already satisfied: click!=8.0.0,>=7.1 in /home/paul/miniconda3/envs/qvim-submission/lib/python3.10/site-packages (from wandb->qvim-mn-baseline==0.1.0) (8.1.8)\r\n",
      "Requirement already satisfied: docker-pycreds>=0.4.0 in /home/paul/miniconda3/envs/qvim-submission/lib/python3.10/site-packages (from wandb->qvim-mn-baseline==0.1.0) (0.4.0)\r\n",
      "Requirement already satisfied: gitpython!=3.1.29,>=1.0.0 in /home/paul/miniconda3/envs/qvim-submission/lib/python3.10/site-packages (from wandb->qvim-mn-baseline==0.1.0) (3.1.44)\r\n",
      "Requirement already satisfied: platformdirs in /home/paul/miniconda3/envs/qvim-submission/lib/python3.10/site-packages (from wandb->qvim-mn-baseline==0.1.0) (3.10.0)\r\n",
      "Requirement already satisfied: protobuf!=4.21.0,!=5.28.0,<6,>=3.19.0 in /home/paul/miniconda3/envs/qvim-submission/lib/python3.10/site-packages (from wandb->qvim-mn-baseline==0.1.0) (5.29.4)\r\n",
      "Requirement already satisfied: psutil>=5.0.0 in /home/paul/miniconda3/envs/qvim-submission/lib/python3.10/site-packages (from wandb->qvim-mn-baseline==0.1.0) (5.9.0)\r\n",
      "Requirement already satisfied: pydantic<3 in /home/paul/miniconda3/envs/qvim-submission/lib/python3.10/site-packages (from wandb->qvim-mn-baseline==0.1.0) (2.11.2)\r\n",
      "Requirement already satisfied: requests<3,>=2.0.0 in /home/paul/miniconda3/envs/qvim-submission/lib/python3.10/site-packages (from wandb->qvim-mn-baseline==0.1.0) (2.32.3)\r\n",
      "Requirement already satisfied: sentry-sdk>=2.0.0 in /home/paul/miniconda3/envs/qvim-submission/lib/python3.10/site-packages (from wandb->qvim-mn-baseline==0.1.0) (2.25.1)\r\n",
      "Requirement already satisfied: setproctitle in /home/paul/miniconda3/envs/qvim-submission/lib/python3.10/site-packages (from wandb->qvim-mn-baseline==0.1.0) (1.3.5)\r\n",
      "Requirement already satisfied: setuptools in /home/paul/miniconda3/envs/qvim-submission/lib/python3.10/site-packages (from wandb->qvim-mn-baseline==0.1.0) (75.8.0)\r\n",
      "Requirement already satisfied: six>=1.4.0 in /home/paul/miniconda3/envs/qvim-submission/lib/python3.10/site-packages (from docker-pycreds>=0.4.0->wandb->qvim-mn-baseline==0.1.0) (1.16.0)\r\n",
      "Requirement already satisfied: aiohttp!=4.0.0a0,!=4.0.0a1 in /home/paul/miniconda3/envs/qvim-submission/lib/python3.10/site-packages (from fsspec[http]<2026.0,>=2022.5.0->lightning==2.5.1->qvim-mn-baseline==0.1.0) (3.11.16)\r\n",
      "Requirement already satisfied: gitdb<5,>=4.0.1 in /home/paul/miniconda3/envs/qvim-submission/lib/python3.10/site-packages (from gitpython!=3.1.29,>=1.0.0->wandb->qvim-mn-baseline==0.1.0) (4.0.12)\r\n",
      "Requirement already satisfied: anyio>=3.1.0 in /home/paul/miniconda3/envs/qvim-submission/lib/python3.10/site-packages (from jupyter-server<3,>=2.4.0->notebook->qvim-mn-baseline==0.1.0) (4.6.2)\r\n",
      "Requirement already satisfied: argon2-cffi>=21.1 in /home/paul/miniconda3/envs/qvim-submission/lib/python3.10/site-packages (from jupyter-server<3,>=2.4.0->notebook->qvim-mn-baseline==0.1.0) (21.3.0)\r\n",
      "Requirement already satisfied: jupyter-client>=7.4.4 in /home/paul/miniconda3/envs/qvim-submission/lib/python3.10/site-packages (from jupyter-server<3,>=2.4.0->notebook->qvim-mn-baseline==0.1.0) (8.6.3)\r\n",
      "Requirement already satisfied: jupyter-core!=5.0.*,>=4.12 in /home/paul/miniconda3/envs/qvim-submission/lib/python3.10/site-packages (from jupyter-server<3,>=2.4.0->notebook->qvim-mn-baseline==0.1.0) (5.7.2)\r\n",
      "Requirement already satisfied: jupyter-events>=0.11.0 in /home/paul/miniconda3/envs/qvim-submission/lib/python3.10/site-packages (from jupyter-server<3,>=2.4.0->notebook->qvim-mn-baseline==0.1.0) (0.12.0)\r\n",
      "Requirement already satisfied: jupyter-server-terminals>=0.4.4 in /home/paul/miniconda3/envs/qvim-submission/lib/python3.10/site-packages (from jupyter-server<3,>=2.4.0->notebook->qvim-mn-baseline==0.1.0) (0.4.4)\r\n",
      "Requirement already satisfied: nbconvert>=6.4.4 in /home/paul/miniconda3/envs/qvim-submission/lib/python3.10/site-packages (from jupyter-server<3,>=2.4.0->notebook->qvim-mn-baseline==0.1.0) (7.16.6)\r\n",
      "Requirement already satisfied: nbformat>=5.3.0 in /home/paul/miniconda3/envs/qvim-submission/lib/python3.10/site-packages (from jupyter-server<3,>=2.4.0->notebook->qvim-mn-baseline==0.1.0) (5.10.4)\r\n",
      "Requirement already satisfied: overrides>=5.0 in /home/paul/miniconda3/envs/qvim-submission/lib/python3.10/site-packages (from jupyter-server<3,>=2.4.0->notebook->qvim-mn-baseline==0.1.0) (7.4.0)\r\n",
      "Requirement already satisfied: prometheus-client>=0.9 in /home/paul/miniconda3/envs/qvim-submission/lib/python3.10/site-packages (from jupyter-server<3,>=2.4.0->notebook->qvim-mn-baseline==0.1.0) (0.21.0)\r\n",
      "Requirement already satisfied: pyzmq>=24 in /home/paul/miniconda3/envs/qvim-submission/lib/python3.10/site-packages (from jupyter-server<3,>=2.4.0->notebook->qvim-mn-baseline==0.1.0) (26.2.0)\r\n",
      "Requirement already satisfied: send2trash>=1.8.2 in /home/paul/miniconda3/envs/qvim-submission/lib/python3.10/site-packages (from jupyter-server<3,>=2.4.0->notebook->qvim-mn-baseline==0.1.0) (1.8.2)\r\n",
      "Requirement already satisfied: terminado>=0.8.3 in /home/paul/miniconda3/envs/qvim-submission/lib/python3.10/site-packages (from jupyter-server<3,>=2.4.0->notebook->qvim-mn-baseline==0.1.0) (0.17.1)\r\n",
      "Requirement already satisfied: traitlets>=5.6.0 in /home/paul/miniconda3/envs/qvim-submission/lib/python3.10/site-packages (from jupyter-server<3,>=2.4.0->notebook->qvim-mn-baseline==0.1.0) (5.14.3)\r\n",
      "Requirement already satisfied: websocket-client>=1.7 in /home/paul/miniconda3/envs/qvim-submission/lib/python3.10/site-packages (from jupyter-server<3,>=2.4.0->notebook->qvim-mn-baseline==0.1.0) (1.8.0)\r\n",
      "Requirement already satisfied: MarkupSafe>=2.0 in /home/paul/miniconda3/envs/qvim-submission/lib/python3.10/site-packages (from jinja2->torch==2.6.0->qvim-mn-baseline==0.1.0) (3.0.2)\r\n",
      "Requirement already satisfied: async-lru>=1.0.0 in /home/paul/miniconda3/envs/qvim-submission/lib/python3.10/site-packages (from jupyterlab<4.4,>=4.3.4->notebook->qvim-mn-baseline==0.1.0) (2.0.4)\r\n",
      "Requirement already satisfied: httpx>=0.25.0 in /home/paul/miniconda3/envs/qvim-submission/lib/python3.10/site-packages (from jupyterlab<4.4,>=4.3.4->notebook->qvim-mn-baseline==0.1.0) (0.27.0)\r\n",
      "Requirement already satisfied: ipykernel>=6.5.0 in /home/paul/miniconda3/envs/qvim-submission/lib/python3.10/site-packages (from jupyterlab<4.4,>=4.3.4->notebook->qvim-mn-baseline==0.1.0) (6.29.5)\r\n",
      "Requirement already satisfied: jupyter-lsp>=2.0.0 in /home/paul/miniconda3/envs/qvim-submission/lib/python3.10/site-packages (from jupyterlab<4.4,>=4.3.4->notebook->qvim-mn-baseline==0.1.0) (2.2.0)\r\n",
      "Requirement already satisfied: tomli>=1.2.2 in /home/paul/miniconda3/envs/qvim-submission/lib/python3.10/site-packages (from jupyterlab<4.4,>=4.3.4->notebook->qvim-mn-baseline==0.1.0) (2.0.1)\r\n",
      "Requirement already satisfied: babel>=2.10 in /home/paul/miniconda3/envs/qvim-submission/lib/python3.10/site-packages (from jupyterlab-server<3,>=2.27.1->notebook->qvim-mn-baseline==0.1.0) (2.16.0)\r\n",
      "Requirement already satisfied: json5>=0.9.0 in /home/paul/miniconda3/envs/qvim-submission/lib/python3.10/site-packages (from jupyterlab-server<3,>=2.27.1->notebook->qvim-mn-baseline==0.1.0) (0.9.25)\r\n",
      "Requirement already satisfied: jsonschema>=4.18.0 in /home/paul/miniconda3/envs/qvim-submission/lib/python3.10/site-packages (from jupyterlab-server<3,>=2.27.1->notebook->qvim-mn-baseline==0.1.0) (4.23.0)\r\n",
      "Requirement already satisfied: llvmlite<0.45,>=0.44.0dev0 in /home/paul/miniconda3/envs/qvim-submission/lib/python3.10/site-packages (from numba>=0.51.0->librosa==0.11.0->qvim-mn-baseline==0.1.0) (0.44.0)\r\n",
      "Requirement already satisfied: annotated-types>=0.6.0 in /home/paul/miniconda3/envs/qvim-submission/lib/python3.10/site-packages (from pydantic<3->wandb->qvim-mn-baseline==0.1.0) (0.7.0)\r\n",
      "Requirement already satisfied: pydantic-core==2.33.1 in /home/paul/miniconda3/envs/qvim-submission/lib/python3.10/site-packages (from pydantic<3->wandb->qvim-mn-baseline==0.1.0) (2.33.1)\r\n",
      "Requirement already satisfied: typing-inspection>=0.4.0 in /home/paul/miniconda3/envs/qvim-submission/lib/python3.10/site-packages (from pydantic<3->wandb->qvim-mn-baseline==0.1.0) (0.4.0)\r\n",
      "Requirement already satisfied: charset-normalizer<4,>=2 in /home/paul/miniconda3/envs/qvim-submission/lib/python3.10/site-packages (from requests<3,>=2.0.0->wandb->qvim-mn-baseline==0.1.0) (3.3.2)\r\n",
      "Requirement already satisfied: idna<4,>=2.5 in /home/paul/miniconda3/envs/qvim-submission/lib/python3.10/site-packages (from requests<3,>=2.0.0->wandb->qvim-mn-baseline==0.1.0) (3.7)\r\n",
      "Requirement already satisfied: urllib3<3,>=1.21.1 in /home/paul/miniconda3/envs/qvim-submission/lib/python3.10/site-packages (from requests<3,>=2.0.0->wandb->qvim-mn-baseline==0.1.0) (2.3.0)\r\n",
      "Requirement already satisfied: certifi>=2017.4.17 in /home/paul/miniconda3/envs/qvim-submission/lib/python3.10/site-packages (from requests<3,>=2.0.0->wandb->qvim-mn-baseline==0.1.0) (2025.1.31)\r\n",
      "Requirement already satisfied: cffi>=1.0 in /home/paul/miniconda3/envs/qvim-submission/lib/python3.10/site-packages (from soundfile>=0.12.1->librosa==0.11.0->qvim-mn-baseline==0.1.0) (1.17.1)\r\n",
      "Requirement already satisfied: aiohappyeyeballs>=2.3.0 in /home/paul/miniconda3/envs/qvim-submission/lib/python3.10/site-packages (from aiohttp!=4.0.0a0,!=4.0.0a1->fsspec[http]<2026.0,>=2022.5.0->lightning==2.5.1->qvim-mn-baseline==0.1.0) (2.6.1)\r\n",
      "Requirement already satisfied: aiosignal>=1.1.2 in /home/paul/miniconda3/envs/qvim-submission/lib/python3.10/site-packages (from aiohttp!=4.0.0a0,!=4.0.0a1->fsspec[http]<2026.0,>=2022.5.0->lightning==2.5.1->qvim-mn-baseline==0.1.0) (1.3.2)\r\n",
      "Requirement already satisfied: async-timeout<6.0,>=4.0 in /home/paul/miniconda3/envs/qvim-submission/lib/python3.10/site-packages (from aiohttp!=4.0.0a0,!=4.0.0a1->fsspec[http]<2026.0,>=2022.5.0->lightning==2.5.1->qvim-mn-baseline==0.1.0) (5.0.1)\r\n",
      "Requirement already satisfied: attrs>=17.3.0 in /home/paul/miniconda3/envs/qvim-submission/lib/python3.10/site-packages (from aiohttp!=4.0.0a0,!=4.0.0a1->fsspec[http]<2026.0,>=2022.5.0->lightning==2.5.1->qvim-mn-baseline==0.1.0) (24.3.0)\r\n",
      "Requirement already satisfied: frozenlist>=1.1.1 in /home/paul/miniconda3/envs/qvim-submission/lib/python3.10/site-packages (from aiohttp!=4.0.0a0,!=4.0.0a1->fsspec[http]<2026.0,>=2022.5.0->lightning==2.5.1->qvim-mn-baseline==0.1.0) (1.5.0)\r\n",
      "Requirement already satisfied: multidict<7.0,>=4.5 in /home/paul/miniconda3/envs/qvim-submission/lib/python3.10/site-packages (from aiohttp!=4.0.0a0,!=4.0.0a1->fsspec[http]<2026.0,>=2022.5.0->lightning==2.5.1->qvim-mn-baseline==0.1.0) (6.3.2)\r\n",
      "Requirement already satisfied: propcache>=0.2.0 in /home/paul/miniconda3/envs/qvim-submission/lib/python3.10/site-packages (from aiohttp!=4.0.0a0,!=4.0.0a1->fsspec[http]<2026.0,>=2022.5.0->lightning==2.5.1->qvim-mn-baseline==0.1.0) (0.3.1)\r\n",
      "Requirement already satisfied: yarl<2.0,>=1.17.0 in /home/paul/miniconda3/envs/qvim-submission/lib/python3.10/site-packages (from aiohttp!=4.0.0a0,!=4.0.0a1->fsspec[http]<2026.0,>=2022.5.0->lightning==2.5.1->qvim-mn-baseline==0.1.0) (1.18.3)\r\n",
      "Requirement already satisfied: sniffio>=1.1 in /home/paul/miniconda3/envs/qvim-submission/lib/python3.10/site-packages (from anyio>=3.1.0->jupyter-server<3,>=2.4.0->notebook->qvim-mn-baseline==0.1.0) (1.3.0)\r\n",
      "Requirement already satisfied: exceptiongroup>=1.0.2 in /home/paul/miniconda3/envs/qvim-submission/lib/python3.10/site-packages (from anyio>=3.1.0->jupyter-server<3,>=2.4.0->notebook->qvim-mn-baseline==0.1.0) (1.2.0)\r\n",
      "Requirement already satisfied: argon2-cffi-bindings in /home/paul/miniconda3/envs/qvim-submission/lib/python3.10/site-packages (from argon2-cffi>=21.1->jupyter-server<3,>=2.4.0->notebook->qvim-mn-baseline==0.1.0) (21.2.0)\r\n",
      "Requirement already satisfied: pycparser in /home/paul/miniconda3/envs/qvim-submission/lib/python3.10/site-packages (from cffi>=1.0->soundfile>=0.12.1->librosa==0.11.0->qvim-mn-baseline==0.1.0) (2.21)\r\n",
      "Requirement already satisfied: smmap<6,>=3.0.1 in /home/paul/miniconda3/envs/qvim-submission/lib/python3.10/site-packages (from gitdb<5,>=4.0.1->gitpython!=3.1.29,>=1.0.0->wandb->qvim-mn-baseline==0.1.0) (5.0.2)\r\n",
      "Requirement already satisfied: httpcore==1.* in /home/paul/miniconda3/envs/qvim-submission/lib/python3.10/site-packages (from httpx>=0.25.0->jupyterlab<4.4,>=4.3.4->notebook->qvim-mn-baseline==0.1.0) (1.0.2)\r\n",
      "Requirement already satisfied: h11<0.15,>=0.13 in /home/paul/miniconda3/envs/qvim-submission/lib/python3.10/site-packages (from httpcore==1.*->httpx>=0.25.0->jupyterlab<4.4,>=4.3.4->notebook->qvim-mn-baseline==0.1.0) (0.14.0)\r\n",
      "Requirement already satisfied: comm>=0.1.1 in /home/paul/miniconda3/envs/qvim-submission/lib/python3.10/site-packages (from ipykernel>=6.5.0->jupyterlab<4.4,>=4.3.4->notebook->qvim-mn-baseline==0.1.0) (0.2.1)\r\n",
      "Requirement already satisfied: debugpy>=1.6.5 in /home/paul/miniconda3/envs/qvim-submission/lib/python3.10/site-packages (from ipykernel>=6.5.0->jupyterlab<4.4,>=4.3.4->notebook->qvim-mn-baseline==0.1.0) (1.8.11)\r\n",
      "Requirement already satisfied: ipython>=7.23.1 in /home/paul/miniconda3/envs/qvim-submission/lib/python3.10/site-packages (from ipykernel>=6.5.0->jupyterlab<4.4,>=4.3.4->notebook->qvim-mn-baseline==0.1.0) (8.30.0)\r\n",
      "Requirement already satisfied: matplotlib-inline>=0.1 in /home/paul/miniconda3/envs/qvim-submission/lib/python3.10/site-packages (from ipykernel>=6.5.0->jupyterlab<4.4,>=4.3.4->notebook->qvim-mn-baseline==0.1.0) (0.1.6)\r\n",
      "Requirement already satisfied: nest-asyncio in /home/paul/miniconda3/envs/qvim-submission/lib/python3.10/site-packages (from ipykernel>=6.5.0->jupyterlab<4.4,>=4.3.4->notebook->qvim-mn-baseline==0.1.0) (1.6.0)\r\n",
      "Requirement already satisfied: jsonschema-specifications>=2023.03.6 in /home/paul/miniconda3/envs/qvim-submission/lib/python3.10/site-packages (from jsonschema>=4.18.0->jupyterlab-server<3,>=2.27.1->notebook->qvim-mn-baseline==0.1.0) (2023.7.1)\r\n",
      "Requirement already satisfied: referencing>=0.28.4 in /home/paul/miniconda3/envs/qvim-submission/lib/python3.10/site-packages (from jsonschema>=4.18.0->jupyterlab-server<3,>=2.27.1->notebook->qvim-mn-baseline==0.1.0) (0.30.2)\r\n",
      "Requirement already satisfied: rpds-py>=0.7.1 in /home/paul/miniconda3/envs/qvim-submission/lib/python3.10/site-packages (from jsonschema>=4.18.0->jupyterlab-server<3,>=2.27.1->notebook->qvim-mn-baseline==0.1.0) (0.22.3)\r\n",
      "Requirement already satisfied: python-json-logger>=2.0.4 in /home/paul/miniconda3/envs/qvim-submission/lib/python3.10/site-packages (from jupyter-events>=0.11.0->jupyter-server<3,>=2.4.0->notebook->qvim-mn-baseline==0.1.0) (3.2.1)\r\n",
      "Requirement already satisfied: rfc3339-validator in /home/paul/miniconda3/envs/qvim-submission/lib/python3.10/site-packages (from jupyter-events>=0.11.0->jupyter-server<3,>=2.4.0->notebook->qvim-mn-baseline==0.1.0) (0.1.4)\r\n",
      "Requirement already satisfied: rfc3986-validator>=0.1.1 in /home/paul/miniconda3/envs/qvim-submission/lib/python3.10/site-packages (from jupyter-events>=0.11.0->jupyter-server<3,>=2.4.0->notebook->qvim-mn-baseline==0.1.0) (0.1.1)\r\n",
      "Requirement already satisfied: beautifulsoup4 in /home/paul/miniconda3/envs/qvim-submission/lib/python3.10/site-packages (from nbconvert>=6.4.4->jupyter-server<3,>=2.4.0->notebook->qvim-mn-baseline==0.1.0) (4.12.3)\r\n",
      "Requirement already satisfied: bleach!=5.0.0 in /home/paul/miniconda3/envs/qvim-submission/lib/python3.10/site-packages (from bleach[css]!=5.0.0->nbconvert>=6.4.4->jupyter-server<3,>=2.4.0->notebook->qvim-mn-baseline==0.1.0) (6.2.0)\r\n",
      "Requirement already satisfied: defusedxml in /home/paul/miniconda3/envs/qvim-submission/lib/python3.10/site-packages (from nbconvert>=6.4.4->jupyter-server<3,>=2.4.0->notebook->qvim-mn-baseline==0.1.0) (0.7.1)\r\n",
      "Requirement already satisfied: jupyterlab-pygments in /home/paul/miniconda3/envs/qvim-submission/lib/python3.10/site-packages (from nbconvert>=6.4.4->jupyter-server<3,>=2.4.0->notebook->qvim-mn-baseline==0.1.0) (0.3.0)\r\n",
      "Requirement already satisfied: mistune<4,>=2.0.3 in /home/paul/miniconda3/envs/qvim-submission/lib/python3.10/site-packages (from nbconvert>=6.4.4->jupyter-server<3,>=2.4.0->notebook->qvim-mn-baseline==0.1.0) (3.1.2)\r\n",
      "Requirement already satisfied: nbclient>=0.5.0 in /home/paul/miniconda3/envs/qvim-submission/lib/python3.10/site-packages (from nbconvert>=6.4.4->jupyter-server<3,>=2.4.0->notebook->qvim-mn-baseline==0.1.0) (0.10.2)\r\n",
      "Requirement already satisfied: pandocfilters>=1.4.1 in /home/paul/miniconda3/envs/qvim-submission/lib/python3.10/site-packages (from nbconvert>=6.4.4->jupyter-server<3,>=2.4.0->notebook->qvim-mn-baseline==0.1.0) (1.5.0)\r\n",
      "Requirement already satisfied: pygments>=2.4.1 in /home/paul/miniconda3/envs/qvim-submission/lib/python3.10/site-packages (from nbconvert>=6.4.4->jupyter-server<3,>=2.4.0->notebook->qvim-mn-baseline==0.1.0) (2.15.1)\r\n",
      "Requirement already satisfied: fastjsonschema>=2.15 in /home/paul/miniconda3/envs/qvim-submission/lib/python3.10/site-packages (from nbformat>=5.3.0->jupyter-server<3,>=2.4.0->notebook->qvim-mn-baseline==0.1.0) (2.20.0)\r\n",
      "Requirement already satisfied: ptyprocess in /home/paul/miniconda3/envs/qvim-submission/lib/python3.10/site-packages (from terminado>=0.8.3->jupyter-server<3,>=2.4.0->notebook->qvim-mn-baseline==0.1.0) (0.7.0)\r\n",
      "Requirement already satisfied: webencodings in /home/paul/miniconda3/envs/qvim-submission/lib/python3.10/site-packages (from bleach!=5.0.0->bleach[css]!=5.0.0->nbconvert>=6.4.4->jupyter-server<3,>=2.4.0->notebook->qvim-mn-baseline==0.1.0) (0.5.1)\r\n",
      "Requirement already satisfied: tinycss2<1.5,>=1.1.0 in /home/paul/miniconda3/envs/qvim-submission/lib/python3.10/site-packages (from bleach[css]!=5.0.0->nbconvert>=6.4.4->jupyter-server<3,>=2.4.0->notebook->qvim-mn-baseline==0.1.0) (1.4.0)\r\n",
      "Requirement already satisfied: jedi>=0.16 in /home/paul/miniconda3/envs/qvim-submission/lib/python3.10/site-packages (from ipython>=7.23.1->ipykernel>=6.5.0->jupyterlab<4.4,>=4.3.4->notebook->qvim-mn-baseline==0.1.0) (0.19.2)\r\n",
      "Requirement already satisfied: prompt-toolkit<3.1.0,>=3.0.41 in /home/paul/miniconda3/envs/qvim-submission/lib/python3.10/site-packages (from ipython>=7.23.1->ipykernel>=6.5.0->jupyterlab<4.4,>=4.3.4->notebook->qvim-mn-baseline==0.1.0) (3.0.43)\r\n",
      "Requirement already satisfied: stack-data in /home/paul/miniconda3/envs/qvim-submission/lib/python3.10/site-packages (from ipython>=7.23.1->ipykernel>=6.5.0->jupyterlab<4.4,>=4.3.4->notebook->qvim-mn-baseline==0.1.0) (0.2.0)\r\n",
      "Requirement already satisfied: pexpect>4.3 in /home/paul/miniconda3/envs/qvim-submission/lib/python3.10/site-packages (from ipython>=7.23.1->ipykernel>=6.5.0->jupyterlab<4.4,>=4.3.4->notebook->qvim-mn-baseline==0.1.0) (4.8.0)\r\n",
      "Requirement already satisfied: fqdn in /home/paul/miniconda3/envs/qvim-submission/lib/python3.10/site-packages (from jsonschema[format-nongpl]>=4.18.0->jupyter-events>=0.11.0->jupyter-server<3,>=2.4.0->notebook->qvim-mn-baseline==0.1.0) (1.5.1)\r\n",
      "Requirement already satisfied: isoduration in /home/paul/miniconda3/envs/qvim-submission/lib/python3.10/site-packages (from jsonschema[format-nongpl]>=4.18.0->jupyter-events>=0.11.0->jupyter-server<3,>=2.4.0->notebook->qvim-mn-baseline==0.1.0) (20.11.0)\r\n",
      "Requirement already satisfied: jsonpointer>1.13 in /home/paul/miniconda3/envs/qvim-submission/lib/python3.10/site-packages (from jsonschema[format-nongpl]>=4.18.0->jupyter-events>=0.11.0->jupyter-server<3,>=2.4.0->notebook->qvim-mn-baseline==0.1.0) (3.0.0)\r\n",
      "Requirement already satisfied: uri-template in /home/paul/miniconda3/envs/qvim-submission/lib/python3.10/site-packages (from jsonschema[format-nongpl]>=4.18.0->jupyter-events>=0.11.0->jupyter-server<3,>=2.4.0->notebook->qvim-mn-baseline==0.1.0) (1.3.0)\r\n",
      "Requirement already satisfied: webcolors>=24.6.0 in /home/paul/miniconda3/envs/qvim-submission/lib/python3.10/site-packages (from jsonschema[format-nongpl]>=4.18.0->jupyter-events>=0.11.0->jupyter-server<3,>=2.4.0->notebook->qvim-mn-baseline==0.1.0) (24.11.1)\r\n",
      "Requirement already satisfied: soupsieve>1.2 in /home/paul/miniconda3/envs/qvim-submission/lib/python3.10/site-packages (from beautifulsoup4->nbconvert>=6.4.4->jupyter-server<3,>=2.4.0->notebook->qvim-mn-baseline==0.1.0) (2.5)\r\n",
      "Requirement already satisfied: parso<0.9.0,>=0.8.4 in /home/paul/miniconda3/envs/qvim-submission/lib/python3.10/site-packages (from jedi>=0.16->ipython>=7.23.1->ipykernel>=6.5.0->jupyterlab<4.4,>=4.3.4->notebook->qvim-mn-baseline==0.1.0) (0.8.4)\r\n",
      "Requirement already satisfied: wcwidth in /home/paul/miniconda3/envs/qvim-submission/lib/python3.10/site-packages (from prompt-toolkit<3.1.0,>=3.0.41->ipython>=7.23.1->ipykernel>=6.5.0->jupyterlab<4.4,>=4.3.4->notebook->qvim-mn-baseline==0.1.0) (0.2.5)\r\n",
      "Requirement already satisfied: arrow>=0.15.0 in /home/paul/miniconda3/envs/qvim-submission/lib/python3.10/site-packages (from isoduration->jsonschema[format-nongpl]>=4.18.0->jupyter-events>=0.11.0->jupyter-server<3,>=2.4.0->notebook->qvim-mn-baseline==0.1.0) (1.3.0)\r\n",
      "Requirement already satisfied: executing in /home/paul/miniconda3/envs/qvim-submission/lib/python3.10/site-packages (from stack-data->ipython>=7.23.1->ipykernel>=6.5.0->jupyterlab<4.4,>=4.3.4->notebook->qvim-mn-baseline==0.1.0) (0.8.3)\r\n",
      "Requirement already satisfied: asttokens in /home/paul/miniconda3/envs/qvim-submission/lib/python3.10/site-packages (from stack-data->ipython>=7.23.1->ipykernel>=6.5.0->jupyterlab<4.4,>=4.3.4->notebook->qvim-mn-baseline==0.1.0) (3.0.0)\r\n",
      "Requirement already satisfied: pure-eval in /home/paul/miniconda3/envs/qvim-submission/lib/python3.10/site-packages (from stack-data->ipython>=7.23.1->ipykernel>=6.5.0->jupyterlab<4.4,>=4.3.4->notebook->qvim-mn-baseline==0.1.0) (0.2.2)\r\n",
      "Requirement already satisfied: types-python-dateutil>=2.8.10 in /home/paul/miniconda3/envs/qvim-submission/lib/python3.10/site-packages (from arrow>=0.15.0->isoduration->jsonschema[format-nongpl]>=4.18.0->jupyter-events>=0.11.0->jupyter-server<3,>=2.4.0->notebook->qvim-mn-baseline==0.1.0) (2.9.0.20241206)\r\n",
      "Building wheels for collected packages: qvim-mn-baseline\r\n",
      "  Building editable for qvim-mn-baseline (pyproject.toml) ... \u001B[?25ldone\r\n",
      "\u001B[?25h  Created wheel for qvim-mn-baseline: filename=qvim_mn_baseline-0.1.0-0.editable-py3-none-any.whl size=3570 sha256=ff493eb62c80d60c3133f9f1459628bb93af57cc87c1db06e64146bf8e630357\r\n",
      "  Stored in directory: /tmp/pip-ephem-wheel-cache-y9p77099/wheels/58/ef/47/bbec13f29b26fe97217392798476cb542e9f767ef0c5cdcd70\r\n",
      "Successfully built qvim-mn-baseline\r\n",
      "Installing collected packages: qvim-mn-baseline\r\n",
      "  Attempting uninstall: qvim-mn-baseline\r\n",
      "    Found existing installation: qvim-mn-baseline 0.1.0\r\n",
      "    Uninstalling qvim-mn-baseline-0.1.0:\r\n",
      "      Successfully uninstalled qvim-mn-baseline-0.1.0\r\n",
      "Successfully installed qvim-mn-baseline-0.1.0\r\n"
     ]
    }
   ],
   "execution_count": 7
  },
  {
   "metadata": {},
   "cell_type": "markdown",
   "source": "# Step 3: Implement the QVIMModel Interface"
  },
  {
   "metadata": {
    "ExecuteTime": {
     "end_time": "2025-04-05T01:13:20.141495Z",
     "start_time": "2025-04-05T01:13:20.128046Z"
    }
   },
   "cell_type": "code",
   "source": [
    "\"\"\"\n",
    "TODO: ADD YOUR IMPLEMENTATION HERE.\n",
    "\"\"\"\n",
    "\n",
    "### Import packages or code here.\n",
    "import numpy as np\n",
    "from numpy.linalg import norm\n",
    "import soundfile as sf\n",
    "import scipy\n",
    "from qvim_2dft_baseline.cqt import cqt\n",
    "\n",
    "### Define and initialize your own model here.\n",
    "class TWO_DFT(QVIMModel):\n",
    "    def __init__(self, sr=8000) -> None:\n",
    "        super().__init__()\n",
    "        self.sr = sr\n",
    "        self.dur = 5\n",
    "\n",
    "    def padding(self, file):\n",
    "        array_length = int(self.sr * self.dur)\n",
    "        if len(file) < array_length:\n",
    "            container = np.zeros(array_length)\n",
    "            container[:len(file)] = file\n",
    "            file = container\n",
    "        else:\n",
    "            file = file[:array_length]\n",
    "        return file\n",
    "\n",
    "    @staticmethod\n",
    "    def calculate_2dft(x):\n",
    "        ft = np.abs(x)\n",
    "        ft = np.fft.fft2(ft)\n",
    "        ft = np.fft.fftshift(ft)\n",
    "        return np.abs(ft).reshape(-1)\n",
    "\n",
    "    def embed_item(self, file_path):\n",
    "        audio, orig_sr = sf.read(file_path)\n",
    "\n",
    "        # Convert to mono if stereo\n",
    "        if len(audio.shape) > 1:\n",
    "            audio = np.mean(audio, axis=1)\n",
    "\n",
    "        # resample\n",
    "        if orig_sr != self.sr:\n",
    "            num_samples = int(len(audio) * self.sr / orig_sr)\n",
    "            audio = scipy.signal.resample(audio, num_samples)\n",
    "\n",
    "        audio = self.padding(audio)\n",
    "        c = cqt(audio, 12, self.sr, 55, 2090)\n",
    "        audio = c[\"cqt\"]\n",
    "        audio = self.calculate_2dft(audio)\n",
    "        return audio\n",
    "\n",
    "    def compute_similarities(\n",
    "            self, items: dict[str, str], queries: dict[str, str]\n",
    "    ) -> dict[str, dict[str, float]]:\n",
    "        scores = {key: {} for key in queries}\n",
    "\n",
    "        self.recording_embs = {key: self.embed_item(val) for key, val in tqdm(items.items(), desc=\"Processing items\")}\n",
    "        self.query_embs = {key: self.embed_item(val) for key, val in tqdm(queries.items(), desc=\"Processing queries\")}\n",
    "\n",
    "        for query_name, query_emb in tqdm(self.query_embs.items(), desc=\"Calculating similarities\"):\n",
    "            for recording_name, recording_emb in self.recording_embs.items():\n",
    "                sim = np.dot(recording_emb, query_emb) / (norm(recording_emb) * norm(query_emb) + 1e-17)\n",
    "                scores[query_name][recording_name] = sim.item()\n",
    "        return scores"
   ],
   "outputs": [],
   "execution_count": 8
  },
  {
   "metadata": {},
   "cell_type": "markdown",
   "source": "# Step 4: Create an Instance of your QVIMModel"
  },
  {
   "metadata": {
    "ExecuteTime": {
     "end_time": "2025-04-05T01:13:20.181939Z",
     "start_time": "2025-04-05T01:13:20.179352Z"
    }
   },
   "cell_type": "code",
   "source": [
    "\"\"\"\n",
    "TODO: INSTANTIATE YOUR MODEL HERE.\n",
    "\"\"\"\n",
    "# instantiate and store your model in variable `QBVIM_MODEL`\n",
    "QBVIM_MODEL = TWO_DFT()"
   ],
   "outputs": [],
   "execution_count": 9
  },
  {
   "cell_type": "markdown",
   "metadata": {
    "id": "dICiJ1tOm4Vh"
   },
   "source": [
    "## Create Predictions\n",
    "\n",
    "To run this, download the development dataset and store them in `DATA_PATH`."
   ]
  },
  {
   "metadata": {
    "id": "flFJzBKtX2cw",
    "ExecuteTime": {
     "end_time": "2025-04-05T01:13:20.237207Z",
     "start_time": "2025-04-05T01:13:20.225113Z"
    }
   },
   "cell_type": "code",
   "source": [
    "\"\"\"\n",
    "DO NOT MODIFY THIS BLOCK.\n",
    "\"\"\"\n",
    "from glob import glob\n",
    "\n",
    "items_path = os.path.join(DATA_PATH, \"Items\")\n",
    "item_files = pd.DataFrame({'path': list(glob(os.path.join(items_path, \"**\", \"*.wav\"), recursive=True))})\n",
    "item_files[\"Class\"] = item_files['path'].transform(lambda x: x.split(os.path.sep)[-2])\n",
    "item_files[\"Items\"] = item_files['path'].transform(lambda x: x.split(os.path.sep)[-1])\n",
    "\n",
    "queries_path = os.path.join(DATA_PATH, \"Queries\")\n",
    "query_files = pd.DataFrame({'path': list(glob(os.path.join(queries_path, \"**\", \"*.wav\"), recursive=True))})\n",
    "query_files[\"Class\"] = query_files['path'].transform(lambda x: x.split(os.path.sep)[-2])\n",
    "query_files[\"Query\"] = query_files['path'].transform(lambda x: x.split(os.path.sep)[-1])\n",
    "\n",
    "print(\"Total item files:\", len(item_files))\n",
    "print(\"Total query files:\", len(query_files))\n",
    "\n",
    "if len(query_files) == 0 or len(item_files) == 0:\n",
    "    raise ValueError(\"No query files found! Download the development dataset and store it in 'DATA_PATH'.\")"
   ],
   "outputs": [
    {
     "name": "stdout",
     "output_type": "stream",
     "text": [
      "Total item files: 125\n",
      "Total query files: 985\n"
     ]
    }
   ],
   "execution_count": 10
  },
  {
   "metadata": {
    "ExecuteTime": {
     "end_time": "2025-04-05T01:14:05.932864Z",
     "start_time": "2025-04-05T01:13:20.272508Z"
    }
   },
   "cell_type": "code",
   "source": [
    "\"\"\"\n",
    "DO NOT MODIFY THIS BLOCK.\n",
    "\"\"\"\n",
    "\n",
    "scores = QBVIM_MODEL.compute_similarities(\n",
    "    items = {row[\"Items\"]: row[\"path\"] for i, row in item_files.iterrows()},\n",
    "    queries = {row[\"Query\"]: row[\"path\"] for i, row in query_files.iterrows()}\n",
    ")"
   ],
   "outputs": [
    {
     "name": "stderr",
     "output_type": "stream",
     "text": [
      "Processing items: 100%|██████████| 124/124 [00:06<00:00, 19.40it/s]\n",
      "Processing queries: 100%|██████████| 985/985 [00:30<00:00, 32.46it/s]\n",
      "Calculating similarities: 100%|██████████| 985/985 [00:08<00:00, 110.99it/s]\n"
     ]
    }
   ],
   "execution_count": 11
  },
  {
   "metadata": {
    "ExecuteTime": {
     "end_time": "2025-04-05T01:14:06.108943Z",
     "start_time": "2025-04-05T01:14:05.947762Z"
    }
   },
   "cell_type": "code",
   "source": [
    "\"\"\"\n",
    "DO NOT MODIFY THIS BLOCK.\n",
    "\"\"\"\n",
    "\n",
    "import json\n",
    "\n",
    "os.makedirs(os.path.join(ROOT_PATH, \"output\"), exist_ok=True)\n",
    "\n",
    "with open(os.path.join(ROOT_PATH, \"output\", \"similarities.json\"), \"w\") as f:\n",
    "    json.dump(scores, f)\n"
   ],
   "outputs": [],
   "execution_count": 12
  },
  {
   "metadata": {},
   "cell_type": "markdown",
   "source": [
    "## Evaluation on the Public Development Set\n",
    "\n",
    "Computes the Reciprocal Rank (RR) for each query in the public development set. The RR is the inverted rank $r_i$ of the correct item for query $i$. Submissions will be ranked via the Mean Reciprocal Randk (MRR) of queries $Q$ on a hidden test set:\n",
    "\n",
    "$$MRR = \\frac{1}{\\lvert Q \\rvert} \\sum_{i=1}^{\\lvert Q\\rvert} \\frac{1}{r_i}$$"
   ]
  },
  {
   "metadata": {
    "ExecuteTime": {
     "end_time": "2025-04-05T01:14:06.300062Z",
     "start_time": "2025-04-05T01:14:06.117312Z"
    }
   },
   "cell_type": "code",
   "source": [
    "\"\"\"\n",
    "DO NOT MODIFY THIS BLOCK.\n",
    "\"\"\"\n",
    "import json\n",
    "\n",
    "with open(os.path.join(ROOT_PATH, \"output\", \"similarities.json\"), \"r\") as f:\n",
    "    scores = json.load(f)\n",
    "\n",
    "rankings = pd.DataFrame(dict(\n",
    "    **{ \"id\": [i for i in list(scores.keys())]},\n",
    "    **{ k: [v[k] for v in  scores.values() ] for k in scores[list(scores.keys())[0]].keys()}\n",
    ")).set_index(\"id\")\n",
    "\n",
    "df = pd.read_csv(\n",
    "    os.path.join(DATA_PATH, \"DEV Dataset.csv\"), skiprows=1\n",
    ")[['Label', 'Class', 'Items', 'Query 1', 'Query 2', 'Query 3']]\n",
    "\n",
    "df = df.melt(\n",
    "    id_vars=[col for col in df.columns if \"Query\" not in col],\n",
    "    value_vars=[\"Query 1\", \"Query 2\", \"Query 3\"],\n",
    "    var_name=\"Query Type\",\n",
    "    value_name=\"Query\"\n",
    ").dropna()\n",
    "\n",
    "# remove missing files\n",
    "rankings = rankings.loc[df[\"Query\"].unique(), df[\"Items\"].unique()]\n",
    "\n",
    "# load file with ground truth, i.e., query->item mapping; column 0 is item, colum 1 query\n",
    "ground_truth = {row['Query']: [row['Items']] for i, row in df.iterrows()}\n",
    "\n",
    "# find the rank of the correct item (real recording) for each query (imitation)\n",
    "position_of_correct = {}\n",
    "missing_query_files = []\n",
    "for query, correct_item_list in ground_truth.items():\n",
    "    # Skip if query is not in the DataFrame\n",
    "    if query not in rankings.index:\n",
    "        missing_query_files.append(query)\n",
    "        continue\n",
    "    # Get row and sort items by similarity in descending order\n",
    "    sorted_items = rankings.loc[query].sort_values(ascending=False)\n",
    "    # Find rank of correct items\n",
    "    position_of_correct[query] = {\n",
    "        item: sorted_items.index.get_loc(item) for item in correct_item_list if item in sorted_items.index\n",
    "    }\n",
    "    assert len(position_of_correct[query]) == len(correct_item_list), f\"Missing item! Got: {list(position_of_correct[query].keys())}. Expected: {correct_item_list}\"\n",
    "\n",
    "# compute MRR\n",
    "normalized_rrs = []\n",
    "for query, items_ranks in position_of_correct.items():\n",
    "    rr, irr = [], [] # summed RR and ideal RR\n",
    "    for i, (item, rank) in enumerate(items_ranks.items()):\n",
    "        rr.append(1 / (rank + 1))\n",
    "        irr.append(1 / (i + 1))\n",
    "    normalized_rrs.append(sum(rr) / sum(irr)) # normalize MRR with ideal one\n",
    "mrr = np.mean(normalized_rrs)\n",
    "\n",
    "print(\"Missing query files: \", len(missing_query_files))\n",
    "print(\"Missing item files: \", missing_query_files)\n",
    "print(\"MRR random:\", round((1/ np.arange(1,len(df[\"Items\"].unique()))).mean(), 4))\n",
    "print(\"MRR       :\", round(mrr, 4))"
   ],
   "outputs": [
    {
     "name": "stdout",
     "output_type": "stream",
     "text": [
      "Missing query files:  0\n",
      "Missing item files:  []\n",
      "MRR random: 0.0447\n",
      "MRR       : 0.1262\n"
     ]
    }
   ],
   "execution_count": 13
  },
  {
   "metadata": {
    "ExecuteTime": {
     "end_time": "2025-04-05T01:14:09.748015Z",
     "start_time": "2025-04-05T01:14:06.314229Z"
    }
   },
   "cell_type": "code",
   "source": [
    "\"\"\"\n",
    "DO NOT MODIFY THIS BLOCK.\n",
    "\"\"\"\n",
    "\n",
    "ground_truth = {\n",
    "    row[\"Query\"]: [row_[\"Items\"] for j, row_ in df.drop_duplicates(\"Items\").iterrows() if row_[\"Class\"] == row[\"Class\"]] for i, row in df.drop_duplicates(\"Query\").iterrows()\n",
    "}\n",
    "\n",
    "position_of_correct = {}\n",
    "missing_query_files = []\n",
    "for query, correct_item_list in ground_truth.items():\n",
    "    # Skip if query is not in the DataFrame\n",
    "    if query not in rankings.index:\n",
    "        missing_query_files.append(query)\n",
    "        continue\n",
    "    # Get row and sort items by similarity in descending order\n",
    "    sorted_items = rankings.loc[query].sort_values(ascending=False)\n",
    "    # Find rank of correct items\n",
    "    position_of_correct[query] = {item: sorted_items.index.get_loc(item) for item in correct_item_list if item in sorted_items.index}\n",
    "    assert len(position_of_correct[query]) == len(correct_item_list), f\"Missing item!\"\n",
    "\n",
    "# compute MRR\n",
    "normalized_rrs = []\n",
    "for query, items_ranks in position_of_correct.items():\n",
    "    rr, irr = [], [] # summed RR and ideal RR\n",
    "    for i, (item, rank) in enumerate(items_ranks.items()):\n",
    "        rr.append(1 / (rank + 1))\n",
    "        irr.append(1 / (i + 1))\n",
    "    normalized_rrs.append(sum(rr) / sum(irr)) # normalize MRR with ideal one\n",
    "mrr = np.mean(normalized_rrs)\n",
    "\n",
    "# compute NDCG\n",
    "normalized_dcg = []\n",
    "ndcgs = {}\n",
    "for query, items_ranks in position_of_correct.items():\n",
    "    dcg, idcg = [], [] # summed RR and ideal RR\n",
    "    for i, (item, rank) in enumerate(items_ranks.items()):\n",
    "        dcg.append(1 / np.log2(rank + 2))\n",
    "        idcg.append(1 / np.log2(i + 2))\n",
    "    normalized_dcg.append(sum(dcg) / sum(idcg)) # normalize MRR with ideal one\n",
    "    ndcgs[query] = sum(dcg) / sum(idcg)\n",
    "ndcg = np.mean(normalized_dcg)\n",
    "\n",
    "print(\"Class-wise MRR :\", round(mrr, 4))\n",
    "print(\"Class-wise NDCG:\", round(ndcg, 4))"
   ],
   "outputs": [
    {
     "name": "stdout",
     "output_type": "stream",
     "text": [
      "Class-wise MRR : 0.2641\n",
      "Class-wise NDCG: 0.4793\n"
     ]
    }
   ],
   "execution_count": 14
  }
 ],
 "metadata": {
  "accelerator": "GPU",
  "colab": {
   "provenance": []
  },
  "gpuClass": "standard",
  "kernelspec": {
   "display_name": "Python 3 (ipykernel)",
   "language": "python",
   "name": "python3"
  },
  "language_info": {
   "codemirror_mode": {
    "name": "ipython",
    "version": 3
   },
   "file_extension": ".py",
   "mimetype": "text/x-python",
   "name": "python",
   "nbconvert_exporter": "python",
   "pygments_lexer": "ipython3",
   "version": "3.9.12"
  }
 },
 "nbformat": 4,
 "nbformat_minor": 4
}
